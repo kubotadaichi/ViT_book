{
 "cells": [
  {
   "cell_type": "code",
   "execution_count": 1,
   "id": "452f69f5-79e7-4e92-814a-14dfd558f788",
   "metadata": {},
   "outputs": [],
   "source": [
    "import torch\n",
    "import torch.nn as nn"
   ]
  },
  {
   "cell_type": "code",
   "execution_count": 8,
   "id": "f67d5f50-79f5-4a37-836e-fde8f4ae8617",
   "metadata": {},
   "outputs": [],
   "source": [
    "class SimpleMlp(nn.Module):\n",
    "    def __init__(self, vec_length:int=16, hidden_unit_1:int=8, hidden_unit_2:int=2):\n",
    "        \"\"\"\n",
    "        vec_length    : 入力次元\n",
    "        hidden_unit_1 : 一つ目の線形層のニューロン数\n",
    "        hidden_unit_2 : 二つ目の線形層のニューロン数\n",
    "        \"\"\"\n",
    "        super().__init__()\n",
    "\n",
    "        self.layer1 = nn.Linear(vec_length, hidden_unit_1)\n",
    "        self.relu = nn.ReLU()\n",
    "        self.layer2 = nn.Linear(hidden_unit_1, hidden_unit_2)\n",
    "\n",
    "    def forward(self, x:torch.Tensor) -> torch.Tensor:\n",
    "        out = self.layer1(x)\n",
    "        out = self.relu(out)\n",
    "        out = self.layer2(out)\n",
    "        return out"
   ]
  },
  {
   "cell_type": "code",
   "execution_count": 16,
   "id": "c280ab22-7acc-4ff0-a109-b51f5c34cde1",
   "metadata": {},
   "outputs": [
    {
     "name": "stdout",
     "output_type": "stream",
     "text": [
      "torch.Size([4, 2])\n",
      "tensor([[-0.2849,  0.0417],\n",
      "        [-0.3164,  0.0327],\n",
      "        [-0.2547,  0.0166],\n",
      "        [-0.0883,  0.0151]], grad_fn=<AddmmBackward0>)\n"
     ]
    }
   ],
   "source": [
    "vec_length = 16\n",
    "hidden_unit_1 = 8\n",
    "hidden_unit_2 = 2\n",
    "\n",
    "batch_size = 4\n",
    "\n",
    "x = torch.randn(batch_size, vec_length)\n",
    "\n",
    "net = SimpleMlp(vec_length, hidden_unit_1, hidden_unit_2)\n",
    "\n",
    "out = net(x)\n",
    "\n",
    "print(out.shape)\n",
    "print(out)"
   ]
  },
  {
   "cell_type": "code",
   "execution_count": null,
   "id": "e3675b40-526f-4f94-a223-27e8c6e36a91",
   "metadata": {},
   "outputs": [],
   "source": []
  }
 ],
 "metadata": {
  "kernelspec": {
   "display_name": "Python 3 (ipykernel)",
   "language": "python",
   "name": "python3"
  },
  "language_info": {
   "codemirror_mode": {
    "name": "ipython",
    "version": 3
   },
   "file_extension": ".py",
   "mimetype": "text/x-python",
   "name": "python",
   "nbconvert_exporter": "python",
   "pygments_lexer": "ipython3",
   "version": "3.12.9"
  }
 },
 "nbformat": 4,
 "nbformat_minor": 5
}
